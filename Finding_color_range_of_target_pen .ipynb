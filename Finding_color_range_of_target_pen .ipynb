{
 "cells": [
  {
   "cell_type": "code",
   "execution_count": 5,
   "metadata": {},
   "outputs": [],
   "source": [
    "import cv2\n",
    "import numpy as np\n",
    "import time"
   ]
  },
  {
   "cell_type": "code",
   "execution_count": 6,
   "metadata": {},
   "outputs": [],
   "source": [
    "#defining a default callback in trackbar function which does nothing\n",
    "def nothing(x):\n",
    "    pass"
   ]
  },
  {
   "cell_type": "code",
   "execution_count": 7,
   "metadata": {},
   "outputs": [
    {
     "output_type": "stream",
     "name": "stdout",
     "text": [
      "[[68, 96, 0], [135, 145, 255]]\n"
     ]
    }
   ],
   "source": [
    "# initializing webcam feed and setting resolution\n",
    "cam = cv2.VideoCapture(0)\n",
    "cam.set(3,1280)\n",
    "cam.set(4,720)\n",
    "\n",
    "# create a window to create trackbar\n",
    "cv2.namedWindow(\"Trackbars\")\n",
    "\n",
    "# Now create 6 trackbars that will control the lower and upper ranges of H,S,V\n",
    "# range of hue is [0,179]\n",
    "# range of sat,val is [0,255]\n",
    "cv2.createTrackbar(\"Lower_Hue\",\"Trackbars\",0,179,nothing)\n",
    "cv2.createTrackbar(\"Lower_Sat\",\"Trackbars\",0,255,nothing)\n",
    "cv2.createTrackbar(\"Lower_Val\",\"Trackbars\",0,255,nothing)\n",
    "cv2.createTrackbar(\"Upper_Hue\",\"Trackbars\",179,179,nothing)\n",
    "cv2.createTrackbar(\"Upper_Sat\",\"Trackbars\",255,255,nothing)\n",
    "cv2.createTrackbar(\"Upper_Val\",\"Trackbars\",255,255,nothing)\n",
    "       \n",
    "while True:\n",
    "    \n",
    "    #start reading the facecam\n",
    "    grabbed,frame = cam.read()\n",
    "    if not grabbed:\n",
    "        break\n",
    "    #flip the frame w.r.t y axis\n",
    "    frame = cv2.flip(frame,1)\n",
    "    \n",
    "    #convert BGR2HSV\n",
    "    hsv = cv2.cvtColor(frame,cv2.COLOR_BGR2HSV)\n",
    "    \n",
    "    #Get the new values of trackbar in real time as the user changes in trackbar\n",
    "    l_h = cv2.getTrackbarPos(\"Lower_Hue\", \"Trackbars\")\n",
    "    l_s = cv2.getTrackbarPos(\"Lower_Sat\", \"Trackbars\")\n",
    "    l_v = cv2.getTrackbarPos(\"Lower_Val\", \"Trackbars\")\n",
    "    u_h = cv2.getTrackbarPos(\"Upper_Hue\", \"Trackbars\")\n",
    "    u_s = cv2.getTrackbarPos(\"Upper_Sat\", \"Trackbars\")\n",
    "    u_v = cv2.getTrackbarPos(\"Upper_Val\", \"Trackbars\")\n",
    "    \n",
    "    # Set the lower and upper HSV range according to the value selected\n",
    "    # by the trackbar\n",
    "    lower_range = np.array([l_h, l_s, l_v])\n",
    "    upper_range = np.array([u_h, u_s, u_v])\n",
    "    #Filter image and get binary mask of penobject Color\n",
    "    mask = cv2.inRange(hsv,lower_range,upper_range)\n",
    "    #for visualizing the real part of target Color\n",
    "    res = cv2.bitwise_and(frame,frame,mask=mask)\n",
    "    #Converitng binary mask to  channel image\n",
    "    mask_3 = cv2.cvtColor(mask,cv2.COLOR_GRAY2BGR)\n",
    "    # stack the mask,original frame,filtered result\n",
    "    stacked = np.hstack((mask_3,frame,res))\n",
    "                   \n",
    "    # Show this stacked frame at 40% of the size.\n",
    "    cv2.imshow(\"Trackbars\",cv2.resize(stacked,None,fx=0.4,fy=0.4))\n",
    "     \n",
    "    # If the user presses ESC then exit the program\n",
    "    key = cv2.waitKey(1)\n",
    "    if key == 27:\n",
    "        break\n",
    "     \n",
    "    # If the user presses `s` then print this array.\n",
    "    if key == ord('s'):\n",
    "         \n",
    "        thearray = [[l_h,l_s,l_v],[u_h, u_s, u_v]]\n",
    "        print(thearray)\n",
    "         \n",
    "        # Also save this array as penval.npy which can be used later\n",
    "        np.save('penval',thearray)\n",
    "        break\n",
    "        \n",
    "cam.release()\n",
    "cv2.destroyAllWindows()\n"
   ]
  },
  {
   "cell_type": "code",
   "execution_count": null,
   "metadata": {},
   "outputs": [],
   "source": []
  }
 ],
 "metadata": {
  "kernelspec": {
   "name": "python38164bitf0e75e1d9dd84ca1aa05204c52c1080d",
   "display_name": "Python 3.8.1 64-bit"
  },
  "language_info": {
   "codemirror_mode": {
    "name": "ipython",
    "version": 3
   },
   "file_extension": ".py",
   "mimetype": "text/x-python",
   "name": "python",
   "nbconvert_exporter": "python",
   "pygments_lexer": "ipython3",
   "version": "3.8.1"
  },
  "metadata": {
   "interpreter": {
    "hash": "807d348a46ff44e512172f79dcc30f404eacc0426ccbe96a3266db956c7f518a"
   }
  }
 },
 "nbformat": 4,
 "nbformat_minor": 4
}